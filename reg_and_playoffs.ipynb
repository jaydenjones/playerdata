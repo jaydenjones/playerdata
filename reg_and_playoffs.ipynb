{
 "cells": [
  {
   "cell_type": "code",
   "execution_count": 51,
   "metadata": {},
   "outputs": [],
   "source": [
    "# IMPORT STATEMENTS\n",
    "import pandas as pd\n",
    "import csv"
   ]
  },
  {
   "cell_type": "code",
   "execution_count": 52,
   "metadata": {},
   "outputs": [],
   "source": [
    "# IMPORT DATA\n",
    "df = pd.read_csv('nba_player_game_logs.csv')\n",
    "df = df.apply(lambda x: x.str.strip() if x.dtype == \"object\" else x).rename(columns=lambda x: x.strip()) # remove whitespace"
   ]
  },
  {
   "cell_type": "code",
   "execution_count": 53,
   "metadata": {},
   "outputs": [],
   "source": [
    "# GET PLAYOFF GAME VALUES \n",
    "playoff_start = '2022-04-16'\n",
    "playoff_end = '2022-06-16'\n",
    "playoff_values = df.loc[df['game_date'].between(playoff_start, playoff_end)] # create new Dataframe from playoff game values\n",
    "playoff_teams = playoff_values['TEAM'].unique() # get each playoff team\n"
   ]
  },
  {
   "cell_type": "code",
   "execution_count": 54,
   "metadata": {},
   "outputs": [],
   "source": [
    "# GET PLAYOFF PLAYERS \n",
    "# get all players who are on playoff teams and played at all in the playoffs\n",
    "playoff_players = playoff_values[(playoff_values['MIN'] > 0) & (playoff_values['TEAM'].isin(playoff_teams))]\n",
    "playoff_players_list = list(playoff_players.groupby(['PLAYER_ID', 'PLAYER_NAME']).groups) "
   ]
  },
  {
   "cell_type": "code",
   "execution_count": 55,
   "metadata": {},
   "outputs": [],
   "source": [
    "# GET REGULAR SEASON VALUES\n",
    "regular_season_start = '2021-10-19'\n",
    "regular_season_end = '2022-04-10'\n",
    "regular_season_values = df.loc[df['game_date'].between(regular_season_start, regular_season_end)] # create new Dataframe from regular season game values"
   ]
  },
  {
   "cell_type": "code",
   "execution_count": 56,
   "metadata": {},
   "outputs": [],
   "source": [
    "# get players who played on playoff teams but also played in regular season\n",
    "regular_season_players = regular_season_values[(regular_season_values['MIN'] > 0) & (regular_season_values['TEAM'].isin(playoff_teams))]\n",
    "regular_season_players_list = list(regular_season_players.groupby(['PLAYER_ID', 'PLAYER_NAME']).groups)\n",
    "\n",
    "# compare sets of regular season and playoff players to see who only played in regular season \n",
    "set_difference = set(regular_season_players_list).difference(set(playoff_players_list))"
   ]
  },
  {
   "cell_type": "code",
   "execution_count": 57,
   "metadata": {},
   "outputs": [],
   "source": [
    "# WRITE TO FILES\n",
    "\n",
    "# write to csv files; could also convert list back to DataFrames and write to_csv \n",
    "with open('regular_season_only.csv', 'w', newline='') as new_file:\n",
    "\n",
    "    csv_writer = csv.writer(new_file)\n",
    "    csv_writer.writerow(['PLAYER_ID', 'PLAYER_NAME']) # column names\n",
    "    csv_writer.writerows(set_difference)\n",
    "\n",
    "with open('playoffs_only.csv', 'w', newline='') as new_file:\n",
    "\n",
    "    # compare sets of regular season and playoff players to see who only played in playoffs \n",
    "    set_difference = set(playoff_players_list).difference(set(regular_season_players_list))\n",
    "    csv_writer = csv.writer(new_file)\n",
    "    csv_writer.writerow(['PLAYER_ID', 'PLAYER_NAME']) # column names\n",
    "    csv_writer.writerows(set_difference)"
   ]
  }
 ],
 "metadata": {
  "kernelspec": {
   "display_name": "Python 3",
   "language": "python",
   "name": "python3"
  },
  "language_info": {
   "codemirror_mode": {
    "name": "ipython",
    "version": 3
   },
   "file_extension": ".py",
   "mimetype": "text/x-python",
   "name": "python",
   "nbconvert_exporter": "python",
   "pygments_lexer": "ipython3",
   "version": "3.10.4"
  },
  "orig_nbformat": 4
 },
 "nbformat": 4,
 "nbformat_minor": 2
}
