{
 "cells": [
  {
   "cell_type": "code",
   "execution_count": 15,
   "metadata": {},
   "outputs": [],
   "source": [
    "# IMPORT STATEMENTS\n",
    "import pandas as pd\n",
    "# from sklearn.linear_model import LogisticRegression\n",
    "import statsmodels.api as sm"
   ]
  },
  {
   "cell_type": "code",
   "execution_count": 16,
   "metadata": {},
   "outputs": [],
   "source": [
    "# IMPORT DATA\n",
    "df = pd.read_csv('nba_player_game_logs.csv')\n",
    "df = df.apply(lambda x: x.str.strip() if x.dtype == \"object\" else x).rename(columns=lambda x: x.strip()) # remove whitespace\n"
   ]
  },
  {
   "cell_type": "code",
   "execution_count": 17,
   "metadata": {},
   "outputs": [],
   "source": [
    "# df.head()"
   ]
  },
  {
   "cell_type": "code",
   "execution_count": 18,
   "metadata": {},
   "outputs": [],
   "source": [
    "# GET REGULAR SEASON DATA, BEFORE AND AFTER ALL-STAR \n",
    "\n",
    "start_of_regular_season_date = '2021-10-19'\n",
    "all_star_break_date = '2022-02-17'\n",
    "after_break_date = '2022-02-24'\n",
    "end_of_regular_season_date = '2022-04-10' # just use regular season data really\n",
    "\n",
    "before_break_values = df.loc[df['game_date'].between(start_of_regular_season_date, all_star_break_date)].copy()\n",
    "after_break_values = df.loc[df['game_date'].between(after_break_date, end_of_regular_season_date)].copy()\n"
   ]
  },
  {
   "cell_type": "code",
   "execution_count": 19,
   "metadata": {},
   "outputs": [],
   "source": [
    "# GROUP AND SORT DATA \n",
    "\n",
    "# Group players by ID, games played, and average minutes BEFORE All-Star Break\n",
    "before_break_players = before_break_values.groupby('PLAYER_ID').agg(games_played=('PLAYER_ID', 'count'),min_mean=('MIN','mean')).reset_index() \n",
    "\n",
    "# Sort players playing > 15 games and > 15 MPG\n",
    "before_break_players = before_break_players[(before_break_players['games_played'] > 15) & (before_break_players['min_mean'] > 15)] \n",
    "\n",
    "# Group players by ID, games played, and average minutes AFTER All-Star Break\n",
    "after_break_players = after_break_values.groupby('PLAYER_ID').agg(games_played=('PLAYER_ID', 'count'),min_mean=('MIN','mean')).reset_index()\n",
    "\n",
    "# Sort players playing > 15 games and > 15 MPG\n",
    "after_break_players = after_break_players[(after_break_players['games_played'] > 15) & (after_break_players['min_mean'] > 15)]\n",
    "\n",
    "# Get list of players who player 15 games and averaged 15 MPG on BOTH SIDES of All-Star Break\n",
    "final_players_list = list(set(before_break_players['PLAYER_ID']).intersection(set(after_break_players['PLAYER_ID'])))"
   ]
  },
  {
   "cell_type": "code",
   "execution_count": 20,
   "metadata": {},
   "outputs": [],
   "source": [
    "# Variables to sort by for regression\n",
    "variable_list = ['PTS', 'MIN', 'FG_PCT', 'FG3A', 'FTA', 'AST', 'TOV', 'OREB']\n",
    "variable_dict = dict.fromkeys(variable_list, 'mean')"
   ]
  },
  {
   "cell_type": "code",
   "execution_count": 21,
   "metadata": {},
   "outputs": [],
   "source": [
    "# ORGANIZE PLAYER DATA\n",
    "\n",
    "# Get players grouped by PLAYER_ID and relevant variables from BEFORE All-Star Break\n",
    "final_players_before_df = before_break_values.groupby('PLAYER_ID').agg(variable_dict)\n",
    "final_players_before_df = final_players_before_df.reset_index() # make PLAYER_ID a column\n",
    "final_players_before_df = final_players_before_df[final_players_before_df['PLAYER_ID'].isin(final_players_list)] # Get players from Dataframe in games/minutes list\n",
    "\n",
    "# final_players_df;\n",
    "test_df = final_players_before_df.drop(columns=['PLAYER_ID', 'MIN']) # drop PLAYER_ID and MN column since we won't need it for regression\n",
    "\n",
    "# Get players grouped by PLAYER_ID and relevant variables from AFTER All-Star Break\n",
    "final_players_after_df = after_break_values.groupby('PLAYER_ID').agg(variable_dict)\n",
    "final_players_after_df = final_players_after_df.reset_index()\n",
    "final_players_after_df = final_players_after_df[final_players_after_df['PLAYER_ID'].isin(final_players_list)] \n",
    "\n",
    "test_after_df = final_players_after_df.drop(columns=['PLAYER_ID', 'MIN']) # # drop PLAYER_ID and MN column since we won't need it for regression\n",
    "# test_after_df"
   ]
  },
  {
   "cell_type": "code",
   "execution_count": 22,
   "metadata": {},
   "outputs": [],
   "source": [
    "# LOGISTIC REGRESSION TIME\n",
    "# SPLIT DATA\n",
    "\n",
    "# Encode continuous PTS data as categorical (i.e. Yes/No for avg. 15 PPG)\n",
    "pts = pd.cut(test_df['PTS'], bins=[0,15,100], labels=[0, 1])\n",
    "if 'More than 15?' in test_df.columns: # Check if 'More than 15?' column has been added\n",
    "    test_df = test_df.drop(columns=['More than 15?']) # Drop 'More than 15?' column if column exists already; no need for axis errors\n",
    "test_df.insert(7, 'More than 15?', pts) # Insert new column at end of DataFrame\n",
    "\n",
    "# Encode continuous PTS data as categorical (i.e. Yes/No for avg. 15 PPG)\n",
    "pts = pd.cut(test_after_df['PTS'], bins=[0,15,100], labels=[0, 1])\n",
    "if 'More than 15?' in test_after_df.columns:\n",
    "    test_after_df = test_after_df.drop(columns=['More than 15?'])\n",
    "test_after_df.insert(7, 'More than 15?', pts)\n"
   ]
  },
  {
   "cell_type": "code",
   "execution_count": 23,
   "metadata": {},
   "outputs": [],
   "source": [
    "# DEFINE MODEL\n",
    "#log_reg = LogisticRegression() # Create logistic regression\n",
    "# Create regresion model based on whether a player scored more than 15 PPG\n",
    "#log_reg.fit(X=test_df.drop(columns=['PTS','More than 15?']), y=test_df['More than 15?'])"
   ]
  },
  {
   "cell_type": "code",
   "execution_count": 24,
   "metadata": {},
   "outputs": [],
   "source": [
    "# TEST MODEL\n",
    "# Predict if players score more than 15 PPG after all-star break\n",
    "# preds = log_reg.predict(X=test_after_df.drop(columns=['PTS', 'More than 15?']))\n",
    "# print(pd.crosstab(preds, test_after_df['More than 15?'])) # Print confusion matrix for model\n"
   ]
  },
  {
   "cell_type": "code",
   "execution_count": 25,
   "metadata": {},
   "outputs": [],
   "source": [
    "# TEST FOR P VALUES\n",
    "x = sm.add_constant(test_df.drop(columns=['PTS','More than 15?'])) \n",
    "log_reg = sm.OLS(test_df['More than 15?'], x) # logistic regression (OLS)\n",
    "model = log_reg.fit() # fit model\n",
    "# print(model.summary())\n"
   ]
  },
  {
   "cell_type": "code",
   "execution_count": 26,
   "metadata": {},
   "outputs": [],
   "source": [
    "# WRITE TO FILE \n",
    "\n",
    "p_values = model.pvalues[1:] # removes initial row we don't need\n",
    "p_values = pd.DataFrame(p_values).reset_index() # reset column index \n",
    "p_values.columns = ['PREDICTOR', 'P_VALUE'] \n",
    "p_values = p_values[p_values['P_VALUE'] < 0.05] # only p_values less than 0.05 threshold; significant\n",
    "p_values.to_csv('logistic_results.csv', index=False) \n"
   ]
  }
 ],
 "metadata": {
  "kernelspec": {
   "display_name": "Python 3",
   "language": "python",
   "name": "python3"
  },
  "language_info": {
   "codemirror_mode": {
    "name": "ipython",
    "version": 3
   },
   "file_extension": ".py",
   "mimetype": "text/x-python",
   "name": "python",
   "nbconvert_exporter": "python",
   "pygments_lexer": "ipython3",
   "version": "3.10.4"
  },
  "orig_nbformat": 4
 },
 "nbformat": 4,
 "nbformat_minor": 2
}
