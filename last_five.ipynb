{
 "cells": [
  {
   "cell_type": "code",
   "execution_count": 10,
   "metadata": {},
   "outputs": [],
   "source": [
    "# IMPORT STATEMENTS\n",
    "import pandas as pd"
   ]
  },
  {
   "cell_type": "code",
   "execution_count": 11,
   "metadata": {},
   "outputs": [],
   "source": [
    "# IMPORT DATA \n",
    "df = pd.read_csv('nba_player_game_logs.csv') # read csv file into pandas Dataframe\n",
    "df = df.apply(lambda x: x.str.strip() if x.dtype == \"object\" else x).rename(columns=lambda x: x.strip()) # remove whitespace\n",
    "# df.info()\n",
    "# df.columns"
   ]
  },
  {
   "cell_type": "code",
   "execution_count": 12,
   "metadata": {},
   "outputs": [],
   "source": [
    "# LAST 5 GAMES \n",
    "\n",
    "start_of_regular_season_date = '2021-10-19' \n",
    "end_of_regular_season_date = '2022-04-10' \n",
    "\n",
    "# create new Dataframe from regular season values\n",
    "regular_season_values = df.loc[df['game_date'].between(start_of_regular_season_date, end_of_regular_season_date)].copy()  \n",
    "\n",
    "# create new DataFrame grouped by each player's respective last 5 games; sorted for good measure\n",
    "grouped_game_values = regular_season_values.groupby('PLAYER_ID').tail(5).sort_values(by=['PLAYER_ID', 'game_date'], ascending=True) # each players last 5 games"
   ]
  },
  {
   "cell_type": "code",
   "execution_count": 13,
   "metadata": {},
   "outputs": [],
   "source": [
    "# PER 28 STATS\n",
    "\n",
    "# list of all of the necessary stats in the Dataframe\n",
    "stats = ['MIN','FGM', 'FGA', 'FG_PCT', 'FG3M', 'FG3A', 'FG3_PCT', 'FTM', 'FTA',\n",
    "       'FT_PCT', 'OREB', 'DREB', 'REB', 'AST', 'TOV', 'STL', 'BLK', 'BLKA',\n",
    "       'PF', 'PFD', 'PTS', 'PLUS_MINUS']\n",
    "stats = dict.fromkeys(stats, 'mean') # set all stats to mean function for .agg function \n",
    "\n",
    "aggregated_values = grouped_game_values.groupby('PLAYER_ID').agg(stats) # take the mean of each players stats for last 5 games\n",
    "\n",
    "# per 28 -> (28/avg_min)*stat\n",
    "aggregated_values['per_28'] = 28 / aggregated_values['MIN'] # create per 28 minutes scalar by dividing 28 by each players average minutes\n",
    "\n",
    "# create per 28-minute stats by multiplying all stats by per 28 scalar\n",
    "per_28_values = aggregated_values.multiply(aggregated_values['per_28'], axis='index').drop(columns=['MIN','per_28']) \n"
   ]
  },
  {
   "cell_type": "code",
   "execution_count": 14,
   "metadata": {},
   "outputs": [],
   "source": [
    "# RECALCULATE SHOOTING PERCENTAGES \n",
    "\n",
    "# recalculating shooting percentages to remove rounding error and effect by per_28 aggregation\n",
    "per_28_values['FG_PCT'] = per_28_values['FGM'] / per_28_values['FGA']\n",
    "per_28_values['FG3_PCT'] = per_28_values['FG3M'] / per_28_values['FG3A']\n",
    "per_28_values['FT_PCT'] = per_28_values['FTM'] / per_28_values['FTA']\n",
    "\n",
    "per_28_values = per_28_values.fillna(0) # if any NaN values get created from division above (i.e. divide by zero), just fill with 0\n",
    "# per_28_values.head()\n"
   ]
  },
  {
   "cell_type": "code",
   "execution_count": 15,
   "metadata": {},
   "outputs": [],
   "source": [
    "# REARRANGE COLUMNS\n",
    "\n",
    "new_columns = ['FGM', 'FGA', 'FG3M', 'FG3A',  'FTM', 'FTA', \n",
    "               'OREB', 'DREB', 'REB', 'AST', 'TOV', 'STL', 'BLK', 'BLKA',\n",
    "               'PF', 'PFD', 'PTS', 'PLUS_MINUS','FG_PCT', 'FG3_PCT','FT_PCT']\n",
    "\n",
    "per_28_values = per_28_values[new_columns] # set new column order\n",
    "# per_28_values.tail()"
   ]
  },
  {
   "cell_type": "code",
   "execution_count": 16,
   "metadata": {},
   "outputs": [],
   "source": [
    "# WRITE FILE\n",
    "per_28_values.to_csv('players_per_28.csv')"
   ]
  }
 ],
 "metadata": {
  "kernelspec": {
   "display_name": "Python 3",
   "language": "python",
   "name": "python3"
  },
  "language_info": {
   "codemirror_mode": {
    "name": "ipython",
    "version": 3
   },
   "file_extension": ".py",
   "mimetype": "text/x-python",
   "name": "python",
   "nbconvert_exporter": "python",
   "pygments_lexer": "ipython3",
   "version": "3.10.4"
  },
  "orig_nbformat": 4
 },
 "nbformat": 4,
 "nbformat_minor": 2
}
